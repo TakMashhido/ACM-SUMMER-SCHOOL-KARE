{
  "cells": [
    {
      "cell_type": "markdown",
      "metadata": {
        "id": "r8teiBZ6dP5g"
      },
      "source": [
        "# Lesson: Data Types and Sizes\n",
        "\n",
        "In this lab, you will learn about the common data types used to store the parameters of machine learning models.\n",
        "\n",
        "```Python\n",
        "!pip install torch==2.1.1\n",
        "```"
      ]
    },
    {
      "cell_type": "code",
      "source": [
        "!pip install torch==2.1.1 -q"
      ],
      "metadata": {
        "colab": {
          "base_uri": "https://localhost:8080/"
        },
        "id": "OmShgjA7elLJ",
        "outputId": "636992b1-16e6-435d-c716-f5f82f00c29d"
      },
      "execution_count": 1,
      "outputs": [
        {
          "output_type": "stream",
          "name": "stdout",
          "text": [
            "\u001b[2K   \u001b[90m━━━━━━━━━━━━━━━━━━━━━━━━━━━━━━━━━━━━━━━━\u001b[0m \u001b[32m670.2/670.2 MB\u001b[0m \u001b[31m2.0 MB/s\u001b[0m eta \u001b[36m0:00:00\u001b[0m\n",
            "\u001b[2K   \u001b[90m━━━━━━━━━━━━━━━━━━━━━━━━━━━━━━━━━━━━━━━━\u001b[0m \u001b[32m410.6/410.6 MB\u001b[0m \u001b[31m4.1 MB/s\u001b[0m eta \u001b[36m0:00:00\u001b[0m\n",
            "\u001b[2K   \u001b[90m━━━━━━━━━━━━━━━━━━━━━━━━━━━━━━━━━━━━━━━━\u001b[0m \u001b[32m14.1/14.1 MB\u001b[0m \u001b[31m63.5 MB/s\u001b[0m eta \u001b[36m0:00:00\u001b[0m\n",
            "\u001b[2K   \u001b[90m━━━━━━━━━━━━━━━━━━━━━━━━━━━━━━━━━━━━━━━━\u001b[0m \u001b[32m23.7/23.7 MB\u001b[0m \u001b[31m37.4 MB/s\u001b[0m eta \u001b[36m0:00:00\u001b[0m\n",
            "\u001b[2K   \u001b[90m━━━━━━━━━━━━━━━━━━━━━━━━━━━━━━━━━━━━━━━━\u001b[0m \u001b[32m823.6/823.6 kB\u001b[0m \u001b[31m40.7 MB/s\u001b[0m eta \u001b[36m0:00:00\u001b[0m\n",
            "\u001b[2K   \u001b[90m━━━━━━━━━━━━━━━━━━━━━━━━━━━━━━━━━━━━━━━━\u001b[0m \u001b[32m731.7/731.7 MB\u001b[0m \u001b[31m2.6 MB/s\u001b[0m eta \u001b[36m0:00:00\u001b[0m\n",
            "\u001b[2K   \u001b[90m━━━━━━━━━━━━━━━━━━━━━━━━━━━━━━━━━━━━━━━━\u001b[0m \u001b[32m121.6/121.6 MB\u001b[0m \u001b[31m7.5 MB/s\u001b[0m eta \u001b[36m0:00:00\u001b[0m\n",
            "\u001b[2K   \u001b[90m━━━━━━━━━━━━━━━━━━━━━━━━━━━━━━━━━━━━━━━━\u001b[0m \u001b[32m56.5/56.5 MB\u001b[0m \u001b[31m13.1 MB/s\u001b[0m eta \u001b[36m0:00:00\u001b[0m\n",
            "\u001b[2K   \u001b[90m━━━━━━━━━━━━━━━━━━━━━━━━━━━━━━━━━━━━━━━━\u001b[0m \u001b[32m124.2/124.2 MB\u001b[0m \u001b[31m7.5 MB/s\u001b[0m eta \u001b[36m0:00:00\u001b[0m\n",
            "\u001b[2K   \u001b[90m━━━━━━━━━━━━━━━━━━━━━━━━━━━━━━━━━━━━━━━━\u001b[0m \u001b[32m196.0/196.0 MB\u001b[0m \u001b[31m6.7 MB/s\u001b[0m eta \u001b[36m0:00:00\u001b[0m\n",
            "\u001b[2K   \u001b[90m━━━━━━━━━━━━━━━━━━━━━━━━━━━━━━━━━━━━━━━━\u001b[0m \u001b[32m209.8/209.8 MB\u001b[0m \u001b[31m6.2 MB/s\u001b[0m eta \u001b[36m0:00:00\u001b[0m\n",
            "\u001b[2K   \u001b[90m━━━━━━━━━━━━━━━━━━━━━━━━━━━━━━━━━━━━━━━━\u001b[0m \u001b[32m99.1/99.1 kB\u001b[0m \u001b[31m8.3 MB/s\u001b[0m eta \u001b[36m0:00:00\u001b[0m\n",
            "\u001b[2K   \u001b[90m━━━━━━━━━━━━━━━━━━━━━━━━━━━━━━━━━━━━━━━━\u001b[0m \u001b[32m89.2/89.2 MB\u001b[0m \u001b[31m9.2 MB/s\u001b[0m eta \u001b[36m0:00:00\u001b[0m\n",
            "\u001b[?25h\u001b[31mERROR: pip's dependency resolver does not currently take into account all the packages that are installed. This behaviour is the source of the following dependency conflicts.\n",
            "torchvision 0.21.0+cu124 requires torch==2.6.0, but you have torch 2.1.1 which is incompatible.\n",
            "torchaudio 2.6.0+cu124 requires torch==2.6.0, but you have torch 2.1.1 which is incompatible.\u001b[0m\u001b[31m\n",
            "\u001b[0m"
          ]
        }
      ]
    },
    {
      "cell_type": "code",
      "execution_count": 2,
      "metadata": {
        "height": 30,
        "id": "nFC9wgzxBZvz",
        "colab": {
          "base_uri": "https://localhost:8080/"
        },
        "outputId": "313e7694-85d0-4a7d-ac02-4265273179dc"
      },
      "outputs": [
        {
          "output_type": "stream",
          "name": "stderr",
          "text": [
            "\n",
            "A module that was compiled using NumPy 1.x cannot be run in\n",
            "NumPy 2.0.2 as it may crash. To support both 1.x and 2.x\n",
            "versions of NumPy, modules must be compiled with NumPy 2.0.\n",
            "Some module may need to rebuild instead e.g. with 'pybind11>=2.12'.\n",
            "\n",
            "If you are a user of the module, the easiest solution will be to\n",
            "downgrade to 'numpy<2' or try to upgrade the affected module.\n",
            "We expect that some modules will need time to support NumPy 2.\n",
            "\n",
            "Traceback (most recent call last):  File \"<frozen runpy>\", line 198, in _run_module_as_main\n",
            "  File \"<frozen runpy>\", line 88, in _run_code\n",
            "  File \"/usr/local/lib/python3.11/dist-packages/colab_kernel_launcher.py\", line 37, in <module>\n",
            "    ColabKernelApp.launch_instance()\n",
            "  File \"/usr/local/lib/python3.11/dist-packages/traitlets/config/application.py\", line 992, in launch_instance\n",
            "    app.start()\n",
            "  File \"/usr/local/lib/python3.11/dist-packages/ipykernel/kernelapp.py\", line 712, in start\n",
            "    self.io_loop.start()\n",
            "  File \"/usr/local/lib/python3.11/dist-packages/tornado/platform/asyncio.py\", line 205, in start\n",
            "    self.asyncio_loop.run_forever()\n",
            "  File \"/usr/lib/python3.11/asyncio/base_events.py\", line 608, in run_forever\n",
            "    self._run_once()\n",
            "  File \"/usr/lib/python3.11/asyncio/base_events.py\", line 1936, in _run_once\n",
            "    handle._run()\n",
            "  File \"/usr/lib/python3.11/asyncio/events.py\", line 84, in _run\n",
            "    self._context.run(self._callback, *self._args)\n",
            "  File \"/usr/local/lib/python3.11/dist-packages/ipykernel/kernelbase.py\", line 510, in dispatch_queue\n",
            "    await self.process_one()\n",
            "  File \"/usr/local/lib/python3.11/dist-packages/ipykernel/kernelbase.py\", line 499, in process_one\n",
            "    await dispatch(*args)\n",
            "  File \"/usr/local/lib/python3.11/dist-packages/ipykernel/kernelbase.py\", line 406, in dispatch_shell\n",
            "    await result\n",
            "  File \"/usr/local/lib/python3.11/dist-packages/ipykernel/kernelbase.py\", line 730, in execute_request\n",
            "    reply_content = await reply_content\n",
            "  File \"/usr/local/lib/python3.11/dist-packages/ipykernel/ipkernel.py\", line 383, in do_execute\n",
            "    res = shell.run_cell(\n",
            "  File \"/usr/local/lib/python3.11/dist-packages/ipykernel/zmqshell.py\", line 528, in run_cell\n",
            "    return super().run_cell(*args, **kwargs)\n",
            "  File \"/usr/local/lib/python3.11/dist-packages/IPython/core/interactiveshell.py\", line 2975, in run_cell\n",
            "    result = self._run_cell(\n",
            "  File \"/usr/local/lib/python3.11/dist-packages/IPython/core/interactiveshell.py\", line 3030, in _run_cell\n",
            "    return runner(coro)\n",
            "  File \"/usr/local/lib/python3.11/dist-packages/IPython/core/async_helpers.py\", line 78, in _pseudo_sync_runner\n",
            "    coro.send(None)\n",
            "  File \"/usr/local/lib/python3.11/dist-packages/IPython/core/interactiveshell.py\", line 3257, in run_cell_async\n",
            "    has_raised = await self.run_ast_nodes(code_ast.body, cell_name,\n",
            "  File \"/usr/local/lib/python3.11/dist-packages/IPython/core/interactiveshell.py\", line 3473, in run_ast_nodes\n",
            "    if (await self.run_code(code, result,  async_=asy)):\n",
            "  File \"/usr/local/lib/python3.11/dist-packages/IPython/core/interactiveshell.py\", line 3553, in run_code\n",
            "    exec(code_obj, self.user_global_ns, self.user_ns)\n",
            "  File \"/tmp/ipython-input-2-4265195184.py\", line 1, in <cell line: 0>\n",
            "    import torch\n",
            "  File \"/usr/local/lib/python3.11/dist-packages/torch/__init__.py\", line 1382, in <module>\n",
            "    from .functional import *  # noqa: F403\n",
            "  File \"/usr/local/lib/python3.11/dist-packages/torch/functional.py\", line 7, in <module>\n",
            "    import torch.nn.functional as F\n",
            "  File \"/usr/local/lib/python3.11/dist-packages/torch/nn/__init__.py\", line 1, in <module>\n",
            "    from .modules import *  # noqa: F403\n",
            "  File \"/usr/local/lib/python3.11/dist-packages/torch/nn/modules/__init__.py\", line 35, in <module>\n",
            "    from .transformer import TransformerEncoder, TransformerDecoder, \\\n",
            "  File \"/usr/local/lib/python3.11/dist-packages/torch/nn/modules/transformer.py\", line 20, in <module>\n",
            "    device: torch.device = torch.device(torch._C._get_default_device()),  # torch.device('cpu'),\n",
            "/usr/local/lib/python3.11/dist-packages/torch/nn/modules/transformer.py:20: UserWarning: Failed to initialize NumPy: _ARRAY_API not found (Triggered internally at ../torch/csrc/utils/tensor_numpy.cpp:84.)\n",
            "  device: torch.device = torch.device(torch._C._get_default_device()),  # torch.device('cpu'),\n"
          ]
        }
      ],
      "source": [
        "import torch"
      ]
    },
    {
      "cell_type": "markdown",
      "metadata": {
        "id": "hW7psx41rn0h"
      },
      "source": [
        "### Integers"
      ]
    },
    {
      "cell_type": "code",
      "execution_count": 3,
      "metadata": {
        "height": 47,
        "colab": {
          "base_uri": "https://localhost:8080/"
        },
        "id": "zilexcwteYat",
        "outputId": "ef99d037-0c4f-4fbf-9105-f8f61db9dff7"
      },
      "outputs": [
        {
          "output_type": "execute_result",
          "data": {
            "text/plain": [
              "iinfo(min=0, max=255, dtype=uint8)"
            ]
          },
          "metadata": {},
          "execution_count": 3
        }
      ],
      "source": [
        "# Information of `8-bit unsigned integer`\n",
        "torch.iinfo(torch.uint8)"
      ]
    },
    {
      "cell_type": "code",
      "execution_count": 4,
      "metadata": {
        "height": 47,
        "colab": {
          "base_uri": "https://localhost:8080/"
        },
        "id": "AEE1LqbxeYau",
        "outputId": "c728009c-4449-4a8d-9195-41261e55e297"
      },
      "outputs": [
        {
          "output_type": "execute_result",
          "data": {
            "text/plain": [
              "iinfo(min=-128, max=127, dtype=int8)"
            ]
          },
          "metadata": {},
          "execution_count": 4
        }
      ],
      "source": [
        "# Information of `8-bit (signed) integer`\n",
        "torch.iinfo(torch.int8)"
      ]
    },
    {
      "cell_type": "code",
      "execution_count": null,
      "metadata": {
        "height": 47,
        "id": "mi_vASkOeYaw"
      },
      "outputs": [],
      "source": [
        "### Information of `32-bit (signed) integer`\n"
      ]
    },
    {
      "cell_type": "markdown",
      "metadata": {
        "id": "XR8ZYky7eYaz"
      },
      "source": [
        "### Floating Points"
      ]
    },
    {
      "cell_type": "code",
      "execution_count": 5,
      "metadata": {
        "height": 47,
        "id": "KtGbT7oCeYaz"
      },
      "outputs": [],
      "source": [
        "# by default, python stores float data in fp64\n",
        "value = 1/7"
      ]
    },
    {
      "cell_type": "code",
      "execution_count": 7,
      "metadata": {
        "height": 30,
        "colab": {
          "base_uri": "https://localhost:8080/",
          "height": 35
        },
        "id": "az2aRWeseYa0",
        "outputId": "d39bc43b-9045-4f1a-e7fd-317b890d21b5"
      },
      "outputs": [
        {
          "output_type": "execute_result",
          "data": {
            "text/plain": [
              "'0.142857142857142849212692681249'"
            ],
            "application/vnd.google.colaboratory.intrinsic+json": {
              "type": "string"
            }
          },
          "metadata": {},
          "execution_count": 7
        }
      ],
      "source": [
        "format(value, '.30f')"
      ]
    },
    {
      "cell_type": "code",
      "execution_count": 8,
      "metadata": {
        "height": 47,
        "id": "E_Qvmw5ceYa1"
      },
      "outputs": [],
      "source": [
        "# 64-bit floating point\n",
        "tensor_fp64 = torch.tensor(value, dtype = torch.float64)"
      ]
    },
    {
      "cell_type": "code",
      "execution_count": 9,
      "metadata": {
        "height": 30,
        "colab": {
          "base_uri": "https://localhost:8080/"
        },
        "id": "ONwCUsdfeYa1",
        "outputId": "f31ab56d-60ea-4db6-bdc3-4b0817be2a01"
      },
      "outputs": [
        {
          "output_type": "stream",
          "name": "stdout",
          "text": [
            "fp64 tensor: 0.142857142857142849212692681248881854116916656494140625000000\n"
          ]
        }
      ],
      "source": [
        "print(f\"fp64 tensor: {format(tensor_fp64.item(), '.60f')}\")"
      ]
    },
    {
      "cell_type": "code",
      "execution_count": 10,
      "metadata": {
        "height": 64,
        "id": "djRRtFVbeYa2"
      },
      "outputs": [],
      "source": [
        "tensor_fp32 = torch.tensor(value, dtype = torch.float32)\n",
        "tensor_fp16 = torch.tensor(value, dtype = torch.float16)\n",
        "tensor_bf16 = torch.tensor(value, dtype = torch.bfloat16)"
      ]
    },
    {
      "cell_type": "code",
      "execution_count": 11,
      "metadata": {
        "height": 81,
        "colab": {
          "base_uri": "https://localhost:8080/"
        },
        "id": "OKnkz6UOeYa3",
        "outputId": "b67d2cc7-f88a-41b6-a7f8-994165b6eb0e"
      },
      "outputs": [
        {
          "output_type": "stream",
          "name": "stdout",
          "text": [
            "fp64 tensor: 0.142857142857142849212692681248881854116916656494140625000000\n",
            "fp32 tensor: 0.142857149243354797363281250000000000000000000000000000000000\n",
            "fp16 tensor: 0.142822265625000000000000000000000000000000000000000000000000\n",
            "bf16 tensor: 0.142578125000000000000000000000000000000000000000000000000000\n"
          ]
        }
      ],
      "source": [
        "print(f\"fp64 tensor: {format(tensor_fp64.item(), '.60f')}\")\n",
        "print(f\"fp32 tensor: {format(tensor_fp32.item(), '.60f')}\")\n",
        "print(f\"fp16 tensor: {format(tensor_fp16.item(), '.60f')}\")\n",
        "print(f\"bf16 tensor: {format(tensor_bf16.item(), '.60f')}\")"
      ]
    },
    {
      "cell_type": "code",
      "execution_count": 12,
      "metadata": {
        "colab": {
          "base_uri": "https://localhost:8080/"
        },
        "height": 47,
        "id": "hUukczHrBodt",
        "outputId": "7d23407a-07cb-496e-af80-daf94fd63806"
      },
      "outputs": [
        {
          "output_type": "execute_result",
          "data": {
            "text/plain": [
              "finfo(resolution=0.01, min=-3.38953e+38, max=3.38953e+38, eps=0.0078125, smallest_normal=1.17549e-38, tiny=1.17549e-38, dtype=bfloat16)"
            ]
          },
          "metadata": {},
          "execution_count": 12
        }
      ],
      "source": [
        "# Information of `16-bit brain floating point`\n",
        "torch.finfo(torch.bfloat16)"
      ]
    },
    {
      "cell_type": "code",
      "execution_count": 13,
      "metadata": {
        "height": 47,
        "colab": {
          "base_uri": "https://localhost:8080/"
        },
        "id": "Zf_J9dtVeYa4",
        "outputId": "9d7de90f-7366-4c21-941d-f98d9d3761a0"
      },
      "outputs": [
        {
          "output_type": "execute_result",
          "data": {
            "text/plain": [
              "finfo(resolution=1e-06, min=-3.40282e+38, max=3.40282e+38, eps=1.19209e-07, smallest_normal=1.17549e-38, tiny=1.17549e-38, dtype=float32)"
            ]
          },
          "metadata": {},
          "execution_count": 13
        }
      ],
      "source": [
        "# Information of `32-bit floating point`\n",
        "torch.finfo(torch.float32)"
      ]
    },
    {
      "cell_type": "code",
      "execution_count": 15,
      "metadata": {
        "height": 47,
        "colab": {
          "base_uri": "https://localhost:8080/"
        },
        "id": "6Q0hOlnpeYa5",
        "outputId": "ed11a6a9-11e4-44f4-c9fa-93d6feb5b67f"
      },
      "outputs": [
        {
          "output_type": "execute_result",
          "data": {
            "text/plain": [
              "finfo(resolution=0.001, min=-65504, max=65504, eps=0.000976562, smallest_normal=6.10352e-05, tiny=6.10352e-05, dtype=float16)"
            ]
          },
          "metadata": {},
          "execution_count": 15
        }
      ],
      "source": [
        "### Information of `16-bit floating point`\n",
        "torch.finfo(torch.float16)\n"
      ]
    },
    {
      "cell_type": "code",
      "execution_count": null,
      "metadata": {
        "height": 47,
        "id": "_BpoiUnKeYa5"
      },
      "outputs": [],
      "source": [
        "### Information of `64-bit floating point`\n"
      ]
    },
    {
      "cell_type": "markdown",
      "metadata": {
        "id": "3DbtWVVc_jiW"
      },
      "source": [
        "### Downcasting"
      ]
    },
    {
      "cell_type": "code",
      "execution_count": 16,
      "metadata": {
        "height": 47,
        "id": "JHDsqfauBID9"
      },
      "outputs": [],
      "source": [
        "# random pytorch tensor: float32, size=1000\n",
        "tensor_fp32 = torch.rand(1000, dtype = torch.float32)"
      ]
    },
    {
      "cell_type": "markdown",
      "metadata": {
        "id": "gkjsWaA2eYa7"
      },
      "source": [
        "**Note:** As it is random, the values you get will be different from the video."
      ]
    },
    {
      "cell_type": "code",
      "execution_count": 17,
      "metadata": {
        "height": 47,
        "colab": {
          "base_uri": "https://localhost:8080/"
        },
        "id": "TIth3vp4eYa7",
        "outputId": "6a885b47-7f1e-4932-b3b5-ce23426e7503"
      },
      "outputs": [
        {
          "output_type": "execute_result",
          "data": {
            "text/plain": [
              "tensor([0.6051, 0.4580, 0.5223, 0.2300, 0.6922])"
            ]
          },
          "metadata": {},
          "execution_count": 17
        }
      ],
      "source": [
        "# first 5 elements of the random tensor\n",
        "tensor_fp32[:5]"
      ]
    },
    {
      "cell_type": "code",
      "execution_count": 18,
      "metadata": {
        "height": 47,
        "id": "xXLANbSx_nx4"
      },
      "outputs": [],
      "source": [
        "# downcast the tensor to bfloat16 using the \"to\" method\n",
        "tensor_fp32_to_bf16 = tensor_fp32.to(dtype = torch.bfloat16)"
      ]
    },
    {
      "cell_type": "code",
      "execution_count": 19,
      "metadata": {
        "height": 30,
        "colab": {
          "base_uri": "https://localhost:8080/"
        },
        "id": "M8TxUlaNeYa8",
        "outputId": "8233acab-fef4-4ed3-ecb3-ce08ca16b1a2"
      },
      "outputs": [
        {
          "output_type": "execute_result",
          "data": {
            "text/plain": [
              "tensor([0.6055, 0.4570, 0.5234, 0.2305, 0.6914], dtype=torch.bfloat16)"
            ]
          },
          "metadata": {},
          "execution_count": 19
        }
      ],
      "source": [
        "tensor_fp32_to_bf16[:5]"
      ]
    },
    {
      "cell_type": "code",
      "execution_count": 20,
      "metadata": {
        "height": 47,
        "id": "Ve3crrS3eYa8"
      },
      "outputs": [],
      "source": [
        "# tensor_fp32 x tensor_fp32\n",
        "m_float32 = torch.dot(tensor_fp32, tensor_fp32)"
      ]
    },
    {
      "cell_type": "code",
      "execution_count": 21,
      "metadata": {
        "height": 30,
        "colab": {
          "base_uri": "https://localhost:8080/"
        },
        "id": "ZqYfUYvGeYa9",
        "outputId": "99c26122-d1ce-4245-b9cf-44d4ef2ddcde"
      },
      "outputs": [
        {
          "output_type": "execute_result",
          "data": {
            "text/plain": [
              "tensor(333.1667)"
            ]
          },
          "metadata": {},
          "execution_count": 21
        }
      ],
      "source": [
        "m_float32"
      ]
    },
    {
      "cell_type": "code",
      "execution_count": 22,
      "metadata": {
        "height": 47,
        "id": "o0qmIOUgeYa9"
      },
      "outputs": [],
      "source": [
        "# tensor_fp32_to_bf16 x tensor_fp32_to_bf16\n",
        "m_bfloat16 = torch.dot(tensor_fp32_to_bf16, tensor_fp32_to_bf16)"
      ]
    },
    {
      "cell_type": "code",
      "execution_count": 23,
      "metadata": {
        "height": 30,
        "colab": {
          "base_uri": "https://localhost:8080/"
        },
        "id": "LzGYawK8eYa-",
        "outputId": "41f37614-f8bc-4a68-87b2-ce707b992dc9"
      },
      "outputs": [
        {
          "output_type": "execute_result",
          "data": {
            "text/plain": [
              "tensor(334., dtype=torch.bfloat16)"
            ]
          },
          "metadata": {},
          "execution_count": 23
        }
      ],
      "source": [
        "m_bfloat16"
      ]
    },
    {
      "cell_type": "code",
      "execution_count": null,
      "metadata": {
        "height": 30,
        "id": "-Cw5sjqleYa_"
      },
      "outputs": [],
      "source": []
    }
  ],
  "metadata": {
    "accelerator": "GPU",
    "colab": {
      "collapsed_sections": [
        "x_9J8WavkQGl",
        "sulufN1wkK_L",
        "hqPUM0f8oGgf",
        "TgmPMm-ZvdXX",
        "MJuh8aqo9LO-",
        "3bOevU0Ez4KB",
        "LgtYIhSf0Uu0",
        "9DH7-tDDvK5N",
        "TuZhoPK6weuR",
        "WAOeSNraxZeF",
        "UGXo-IljxmNG",
        "_N3G-dX32awT",
        "hW7psx41rn0h",
        "OmcNPw6zlRp7",
        "3_zvORGrnTR8",
        "jh9IuiovrnoF",
        "isDcbkXxxiTf",
        "wM-xkASw1odi",
        "3DbtWVVc_jiW",
        "ViImpV5rAvyp",
        "RdcyknnjBD99",
        "-eYj4UUXCAlJ",
        "MCLe1N4GCSQT",
        "GIY7IrOv_3cD",
        "8HlFKDBKGNG8"
      ],
      "gpuType": "T4",
      "provenance": []
    },
    "kernelspec": {
      "display_name": "Python 3 (ipykernel)",
      "language": "python",
      "name": "python3"
    },
    "language_info": {
      "codemirror_mode": {
        "name": "ipython",
        "version": 3
      },
      "file_extension": ".py",
      "mimetype": "text/x-python",
      "name": "python",
      "nbconvert_exporter": "python",
      "pygments_lexer": "ipython3",
      "version": "3.11.9"
    }
  },
  "nbformat": 4,
  "nbformat_minor": 0
}